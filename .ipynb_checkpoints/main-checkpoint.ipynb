{
 "cells": [
  {
   "cell_type": "code",
   "execution_count": 1,
   "metadata": {},
   "outputs": [],
   "source": [
    "import time\n",
    "import os\n",
    "import requests\n",
    "from tqdm import tqdm\n",
    "\n",
    "from zhihu_oauth import ZhihuClient\n",
    "from zhihu_oauth.exception import NeedCaptchaException\n",
    "\n",
    "from bs4 import BeautifulSoup\n",
    "\n",
    "s = requests.session()\n",
    "s.keep_alive = False"
   ]
  },
  {
   "cell_type": "code",
   "execution_count": 2,
   "metadata": {},
   "outputs": [],
   "source": [
    "# login ZhihuClient\n",
    "client = ZhihuClient()\n",
    "TOKEN_FILE = 'token.pkl'\n",
    "\n",
    "if os.path.isfile(TOKEN_FILE):\n",
    "    client.load_token(TOKEN_FILE)\n",
    "else:\n",
    "    client.login_in_terminal()\n",
    "    client.save_token(TOKEN_FILE)"
   ]
  },
  {
   "cell_type": "markdown",
   "metadata": {},
   "source": [
    "# function"
   ]
  },
  {
   "cell_type": "code",
   "execution_count": 3,
   "metadata": {},
   "outputs": [],
   "source": [
    "def save_answer(topic, answer_numbers=0, save_path = 'zhihu'):\n",
    "    if not os.path.exists(save_path):\n",
    "        os.mkdir(save_path)\n",
    "    topic_path = save_path + '/' + topic.name\n",
    "    if not os.path.exists(topic_path):\n",
    "        os.mkdir(topic_path)\n",
    "\n",
    "    for i,question in zip(tqdm(range(topic.questions_count)),topic.unanswered_questions):\n",
    "        question_time = time.localtime(question.created_time)\n",
    "        question_dt = time.strftime(\"%Y-%m-%d\",question_time)\n",
    "        # 时间筛选\n",
    "        # if question_dt > '2019-12-31' or question_dt < '2019-11-23':\n",
    "        #     continue\n",
    "        question_name =  question_dt + '-' + question.title\n",
    "        question_name = question_name.replace('/',' ')\n",
    "        question_file = topic_path+'/'+question_name+'.txt'\n",
    "\n",
    "        if os.path.exists(question_file):\n",
    "            # 同一个问题不处理\n",
    "            continue\n",
    "\n",
    "        with open(question_file, 'w') as f:\n",
    "            # question\n",
    "            f.write('question is : ')\n",
    "            f.write('\\n')\n",
    "            f.write(str(question.title))\n",
    "            f.write('\\n')\n",
    "            f.write('\\n')\n",
    "            \n",
    "            # answers\n",
    "            for answer in question.answers:\n",
    "                # 时间\n",
    "                answer_time = time.localtime(answer.created_time)\n",
    "                answer_year = answer_time.tm_year\n",
    "                answer_dt = time.strftime(\"%Y-%m-%d %H:%M:%S\",answer_time)\n",
    "                if answer_year < 2017:\n",
    "                    continue\n",
    "\n",
    "                # 文本内容\n",
    "                soup = BeautifulSoup(answer.content,'html.parser')\n",
    "                text = soup.find_all(text=True)\n",
    "                answer_name = answer_dt + '-' + answer.author.name\n",
    "\n",
    "                # 评论内容\n",
    "                comments = []\n",
    "                for comment in answer.comments:\n",
    "                    for reply in comment.replies:\n",
    "                        comments.append(reply.content)\n",
    "\n",
    "                # 保存txt文档\n",
    "                # answer_file = question_path + '/' + answer_name + '.txt'\n",
    "\n",
    "                # answer\n",
    "                f.write('answer of {} is : '.format(answer.author.name))\n",
    "                f.write('\\n')\n",
    "                for line in text:\n",
    "                    f.write(line)\n",
    "                    f.write('\\n')\n",
    "\n",
    "                # comments\n",
    "                if comments != []:\n",
    "                    f.write('comments of this answer: ')\n",
    "                    f.write('\\n')\n",
    "                    for line in comments:\n",
    "                        f.write(line)\n",
    "                        f.write('\\n')\n",
    "\n",
    "                # voteup count\n",
    "                f.write('voteup count: ' + str(answer.voteup_count))\n",
    "                f.write('\\n')\n",
    "\n",
    "                # create time\n",
    "                f.write('create_time: ' + answer_dt)\n",
    "                f.write('\\n')\n",
    "                f.write('\\n')\n",
    "\n",
    "                answer_numbers += 1\n",
    "    return answer_numbers"
   ]
  },
  {
   "cell_type": "markdown",
   "metadata": {},
   "source": [
    "# Main topic"
   ]
  },
  {
   "cell_type": "code",
   "execution_count": 4,
   "metadata": {},
   "outputs": [
    {
     "name": "stderr",
     "output_type": "stream",
     "text": [
      "100%|██████████| 3869/3869 [08:29<00:00,  7.59it/s]  \n"
     ]
    },
    {
     "name": "stdout",
     "output_type": "stream",
     "text": [
      "answer_numbers_all:  711\n"
     ]
    },
    {
     "name": "stderr",
     "output_type": "stream",
     "text": [
      "100%|██████████| 6/6 [00:00<00:00, 32.96it/s]\n",
      "  0%|          | 0/207 [00:00<?, ?it/s]"
     ]
    },
    {
     "name": "stdout",
     "output_type": "stream",
     "text": [
      "answer_numbers_all:  1422\n"
     ]
    },
    {
     "name": "stderr",
     "output_type": "stream",
     "text": [
      "100%|██████████| 207/207 [00:11<00:00, 17.30it/s]\n",
      "  0%|          | 0/6 [00:00<?, ?it/s]"
     ]
    },
    {
     "name": "stdout",
     "output_type": "stream",
     "text": [
      "answer_numbers_all:  2852\n"
     ]
    },
    {
     "name": "stderr",
     "output_type": "stream",
     "text": [
      "100%|██████████| 6/6 [00:03<00:00,  1.59it/s]\n",
      "  0%|          | 0/2 [00:00<?, ?it/s]"
     ]
    },
    {
     "name": "stdout",
     "output_type": "stream",
     "text": [
      "answer_numbers_all:  5712\n"
     ]
    },
    {
     "name": "stderr",
     "output_type": "stream",
     "text": [
      "100%|██████████| 2/2 [00:00<00:00,  6.70it/s]\n",
      "  0%|          | 0/425 [00:00<?, ?it/s]"
     ]
    },
    {
     "name": "stdout",
     "output_type": "stream",
     "text": [
      "answer_numbers_all:  11424\n"
     ]
    },
    {
     "name": "stderr",
     "output_type": "stream",
     "text": [
      " 95%|█████████▍| 403/425 [04:05<00:00, 39.69it/s] \n",
      "0it [00:00, ?it/s]\u001b[A"
     ]
    },
    {
     "name": "stdout",
     "output_type": "stream",
     "text": [
      "answer_numbers_all:  23291\n",
      "answer_numbers_all:  46582\n"
     ]
    },
    {
     "name": "stderr",
     "output_type": "stream",
     "text": [
      "\n",
      "\n",
      "  0%|          | 0/26 [00:00<?, ?it/s]\u001b[A\n",
      "  4%|▍         | 1/26 [00:00<00:06,  3.75it/s]\u001b[A\n",
      "  8%|▊         | 2/26 [00:01<00:14,  1.64it/s]\u001b[A\n",
      " 12%|█▏        | 3/26 [00:02<00:15,  1.44it/s]\u001b[A\n",
      " 15%|█▌        | 4/26 [00:03<00:15,  1.44it/s]\u001b[A\n",
      " 19%|█▉        | 5/26 [00:06<00:29,  1.39s/it]\u001b[A\n",
      " 95%|█████████▍| 403/425 [04:20<00:00, 39.69it/s]\n",
      " 27%|██▋       | 7/26 [00:15<01:05,  3.44s/it]\u001b[A\n",
      " 31%|███       | 8/26 [00:16<00:47,  2.65s/it]\u001b[A\n",
      " 35%|███▍      | 9/26 [00:23<01:04,  3.82s/it]\u001b[A\n",
      " 38%|███▊      | 10/26 [00:23<00:47,  2.95s/it]\u001b[A\n",
      " 42%|████▏     | 11/26 [00:24<00:32,  2.16s/it]\u001b[A\n",
      "100%|██████████| 26/26 [00:24<00:00,  1.06it/s]\u001b[A\n",
      "\n",
      "  0%|          | 0/99 [00:00<?, ?it/s]\u001b[A"
     ]
    },
    {
     "name": "stdout",
     "output_type": "stream",
     "text": [
      "answer_numbers_all:  93204\n"
     ]
    },
    {
     "name": "stderr",
     "output_type": "stream",
     "text": [
      "\n",
      "  1%|          | 1/99 [00:00<00:29,  3.30it/s]\u001b[A\n",
      " 11%|█         | 11/99 [00:01<00:21,  4.05it/s]\u001b[A\n",
      " 13%|█▎        | 13/99 [00:04<00:49,  1.73it/s]\u001b[A\n",
      " 14%|█▍        | 14/99 [00:07<01:56,  1.37s/it]\u001b[A\n",
      " 15%|█▌        | 15/99 [00:08<01:53,  1.35s/it]\u001b[A\n",
      " 16%|█▌        | 16/99 [00:10<02:05,  1.51s/it]\u001b[A\n",
      " 17%|█▋        | 17/99 [00:10<01:29,  1.10s/it]\u001b[A\n",
      " 18%|█▊        | 18/99 [00:12<01:39,  1.23s/it]\u001b[A\n",
      " 19%|█▉        | 19/99 [00:21<05:00,  3.76s/it]\u001b[A\n",
      " 20%|██        | 20/99 [00:22<03:37,  2.75s/it]\u001b[A\n",
      " 21%|██        | 21/99 [00:22<02:46,  2.13s/it]\u001b[A\n",
      " 23%|██▎       | 23/99 [00:23<01:55,  1.52s/it]\u001b[A\n",
      " 25%|██▌       | 25/99 [00:27<02:03,  1.67s/it]\u001b[A\n",
      " 26%|██▋       | 26/99 [00:28<01:55,  1.58s/it]\u001b[A\n",
      " 27%|██▋       | 27/99 [00:29<01:35,  1.32s/it]\u001b[A\n",
      " 28%|██▊       | 28/99 [00:29<01:16,  1.08s/it]\u001b[A\n",
      " 29%|██▉       | 29/99 [00:29<00:55,  1.27it/s]\u001b[A\n",
      " 31%|███▏      | 31/99 [00:30<00:40,  1.68it/s]\u001b[A\n",
      " 41%|████▏     | 41/99 [00:30<00:24,  2.35it/s]\u001b[A\n",
      " 52%|█████▏    | 51/99 [00:30<00:14,  3.22it/s]\u001b[A\n",
      " 62%|██████▏   | 61/99 [00:31<00:08,  4.46it/s]\u001b[A\n",
      " 72%|███████▏  | 71/99 [00:31<00:04,  6.17it/s]\u001b[A\n",
      " 82%|████████▏ | 81/99 [00:31<00:02,  8.14it/s]\u001b[A\n",
      "100%|██████████| 99/99 [00:31<00:00,  3.10it/s]\u001b[A"
     ]
    },
    {
     "name": "stdout",
     "output_type": "stream",
     "text": [
      "answer_numbers_all:  186465\n",
      "answer numbers : 186465\n"
     ]
    },
    {
     "name": "stderr",
     "output_type": "stream",
     "text": [
      "\n"
     ]
    }
   ],
   "source": [
    "answer_numbers_all = 0\n",
    "topic_id = 19649350  # 电子烟的topic id\n",
    "topic = client.topic(topic_id)\n",
    "topic_children = topic.children\n",
    "\n",
    "answer_numbers_all += save_answer(topic, answer_numbers_all)\n",
    "print('answer_numbers_all: ', answer_numbers_all)\n",
    "for topic_child in topic_children:\n",
    "    answer_numbers_all += save_answer(topic_child, answer_numbers_all)\n",
    "    print('answer_numbers_all: ', answer_numbers_all)\n",
    "\n",
    "print('answer numbers :',answer_numbers_all)"
   ]
  },
  {
   "cell_type": "code",
   "execution_count": null,
   "metadata": {},
   "outputs": [],
   "source": []
  }
 ],
 "metadata": {
  "kernelspec": {
   "display_name": "Python 3",
   "language": "python",
   "name": "python3"
  },
  "language_info": {
   "codemirror_mode": {
    "name": "ipython",
    "version": 3
   },
   "file_extension": ".py",
   "mimetype": "text/x-python",
   "name": "python",
   "nbconvert_exporter": "python",
   "pygments_lexer": "ipython3",
   "version": "3.6.9"
  }
 },
 "nbformat": 4,
 "nbformat_minor": 2
}
