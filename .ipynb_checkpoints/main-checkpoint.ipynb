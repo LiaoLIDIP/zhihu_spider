{
 "cells": [
  {
   "cell_type": "code",
   "execution_count": 1,
   "metadata": {},
   "outputs": [],
   "source": [
    "import time\n",
    "import os\n",
    "import requests\n",
    "from tqdm import tqdm\n",
    "\n",
    "from zhihu_oauth import ZhihuClient\n",
    "from zhihu_oauth.exception import NeedCaptchaException\n",
    "\n",
    "from bs4 import BeautifulSoup\n",
    "\n",
    "s = requests.session()\n",
    "s.keep_alive = False"
   ]
  },
  {
   "cell_type": "code",
   "execution_count": 2,
   "metadata": {},
   "outputs": [],
   "source": [
    "# login ZhihuClient\n",
    "client = ZhihuClient()\n",
    "TOKEN_FILE = 'token.pkl'\n",
    "\n",
    "if os.path.isfile(TOKEN_FILE):\n",
    "    client.load_token(TOKEN_FILE)\n",
    "else:\n",
    "    client.login_in_terminal()\n",
    "    client.save_token(TOKEN_FILE)"
   ]
  },
  {
   "cell_type": "markdown",
   "metadata": {},
   "source": [
    "# function"
   ]
  },
  {
   "cell_type": "code",
   "execution_count": 3,
   "metadata": {},
   "outputs": [],
   "source": [
    "def save_answer(topic, answer_numbers=0, save_path = 'zhihu'):\n",
    "    if not os.path.exists(save_path):\n",
    "        os.mkdir(save_path)\n",
    "    topic_path = save_path + '/' + topic.name\n",
    "    if not os.path.exists(topic_path):\n",
    "        os.mkdir(topic_path)\n",
    "\n",
    "    for i,question in zip(tqdm(range(topic.questions_count)),topic.unanswered_questions):\n",
    "        question_time = time.localtime(question.created_time)\n",
    "        question_dt = time.strftime(\"%Y-%m-%d\",question_time)\n",
    "        question_name =  question_dt + '-' + question.title\n",
    "        question_name = question_name.replace('/',' ')\n",
    "        question_file = topic_path+'/'+question_name+'.txt'\n",
    "\n",
    "        if os.path.exists(question_file):\n",
    "            # 同一个问题不处理\n",
    "            continue\n",
    "\n",
    "        with open(question_file, 'w') as f:\n",
    "            # question\n",
    "            f.write('question is : ')\n",
    "            f.write('\\n')\n",
    "            f.write(str(question.title))\n",
    "            f.write('\\n')\n",
    "            f.write('\\n')\n",
    "            \n",
    "            # answers\n",
    "            for answer in question.answers:\n",
    "                # 时间\n",
    "                answer_time = time.localtime(answer.created_time)\n",
    "                answer_year = answer_time.tm_year\n",
    "                answer_dt = time.strftime(\"%Y-%m-%d %H:%M:%S\",answer_time)\n",
    "                if answer_year < 2017:\n",
    "                    continue\n",
    "\n",
    "                # 文本内容\n",
    "                soup = BeautifulSoup(answer.content,'html.parser')\n",
    "                text = soup.find_all(text=True)\n",
    "                answer_name = answer_dt + '-' + answer.author.name\n",
    "\n",
    "                # 评论内容\n",
    "                comments = []\n",
    "                for comment in answer.comments:\n",
    "                    for reply in comment.replies:\n",
    "                        comments.append(reply.content)\n",
    "\n",
    "                # 保存txt文档\n",
    "                # answer_file = question_path + '/' + answer_name + '.txt'\n",
    "\n",
    "                # answer\n",
    "                f.write('answer of {} is : '.format(answer.author.name))\n",
    "                f.write('\\n')\n",
    "                for line in text:\n",
    "                    f.write(line)\n",
    "                    f.write('\\n')\n",
    "\n",
    "                # comments\n",
    "                if comments != []:\n",
    "                    f.write('comments of this answer: ')\n",
    "                    f.write('\\n')\n",
    "                    for line in comments:\n",
    "                        f.write(line)\n",
    "                        f.write('\\n')\n",
    "\n",
    "                # voteup count\n",
    "                f.write('voteup count: ' + str(answer.voteup_count))\n",
    "                f.write('\\n')\n",
    "\n",
    "                # create time\n",
    "                f.write('create_time: ' + answer_dt)\n",
    "                f.write('\\n')\n",
    "                f.write('\\n')\n",
    "\n",
    "                answer_numbers += 1\n",
    "    return answer_numbers"
   ]
  },
  {
   "cell_type": "markdown",
   "metadata": {},
   "source": [
    "# Main topic"
   ]
  },
  {
   "cell_type": "code",
   "execution_count": null,
   "metadata": {},
   "outputs": [
    {
     "name": "stderr",
     "output_type": "stream",
     "text": [
      "  4%|▍         | 161/3697 [00:05<02:14, 26.34it/s]"
     ]
    }
   ],
   "source": [
    "answer_numbers_all = 0\n",
    "topic_id = 19649350  # 电子烟的topic id\n",
    "topic = client.topic(topic_id)\n",
    "topic_children = topic.children\n",
    "\n",
    "answer_numbers_all += save_answer(topic, answer_numbers_all)\n",
    "print('answer_numbers_all: ', answer_numbers_all)\n",
    "for topic_child in topic_children:\n",
    "    answer_numbers_all += save_answer(topic_child, answer_numbers_all)\n",
    "    print('answer_numbers_all: ', answer_numbers_all)\n",
    "\n",
    "print('answer numbers :',answer_numbers_all)"
   ]
  },
  {
   "cell_type": "code",
   "execution_count": null,
   "metadata": {},
   "outputs": [],
   "source": []
  }
 ],
 "metadata": {
  "kernelspec": {
   "display_name": "Python 3",
   "language": "python",
   "name": "python3"
  },
  "language_info": {
   "codemirror_mode": {
    "name": "ipython",
    "version": 3
   },
   "file_extension": ".py",
   "mimetype": "text/x-python",
   "name": "python",
   "nbconvert_exporter": "python",
   "pygments_lexer": "ipython3",
   "version": "3.6.9"
  }
 },
 "nbformat": 4,
 "nbformat_minor": 2
}
