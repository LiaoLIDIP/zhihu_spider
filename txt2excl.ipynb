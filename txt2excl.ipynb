{
 "cells": [
  {
   "cell_type": "code",
   "execution_count": 5,
   "metadata": {},
   "outputs": [],
   "source": [
    "import os\n",
    "import pandas as pd\n",
    "from tqdm import tqdm"
   ]
  },
  {
   "cell_type": "code",
   "execution_count": 6,
   "metadata": {},
   "outputs": [
    {
     "data": {
      "text/plain": [
       "['uks电子烟',\n",
       " 'juul',\n",
       " 'EVOVE亿雾',\n",
       " '沙芬',\n",
       " ' 山岚Laan',\n",
       " '电子烟',\n",
       " 'iqos',\n",
       " '悦刻（RELX）电子烟',\n",
       " '电子烟外贸市场前景']"
      ]
     },
     "execution_count": 6,
     "metadata": {},
     "output_type": "execute_result"
    }
   ],
   "source": [
    "topics = os.listdir('zhihu/')\n",
    "topics"
   ]
  },
  {
   "cell_type": "code",
   "execution_count": 7,
   "metadata": {},
   "outputs": [
    {
     "name": "stderr",
     "output_type": "stream",
     "text": [
      "100%|██████████| 3/3 [00:00<00:00, 195.05it/s]\n",
      "100%|██████████| 2/2 [00:00<00:00, 182.97it/s]\n",
      "100%|██████████| 15/15 [00:00<00:00, 322.28it/s]\n",
      "100%|██████████| 2/2 [00:00<00:00, 300.16it/s]\n",
      "0it [00:00, ?it/s]\n",
      "  0%|          | 0/2834 [00:00<?, ?it/s]"
     ]
    },
    {
     "name": "stdout",
     "output_type": "stream",
     "text": [
      "uks电子烟\n",
      "juul\n",
      "EVOVE亿雾\n",
      "沙芬\n",
      " 山岚Laan\n",
      "电子烟\n"
     ]
    },
    {
     "name": "stderr",
     "output_type": "stream",
     "text": [
      "100%|██████████| 2834/2834 [01:01<00:00, 45.87it/s]\n",
      "  1%|▏         | 2/147 [00:00<00:08, 17.20it/s]"
     ]
    },
    {
     "name": "stdout",
     "output_type": "stream",
     "text": [
      "iqos\n"
     ]
    },
    {
     "name": "stderr",
     "output_type": "stream",
     "text": [
      "100%|██████████| 147/147 [00:09<00:00, 16.28it/s]\n",
      "  3%|▎         | 2/64 [00:00<00:03, 16.12it/s]"
     ]
    },
    {
     "name": "stdout",
     "output_type": "stream",
     "text": [
      "悦刻（RELX）电子烟\n"
     ]
    },
    {
     "name": "stderr",
     "output_type": "stream",
     "text": [
      "100%|██████████| 64/64 [00:04<00:00, 15.80it/s]\n",
      "  1%|          | 2/217 [00:00<00:12, 16.87it/s]"
     ]
    },
    {
     "name": "stdout",
     "output_type": "stream",
     "text": [
      "电子烟外贸市场前景\n"
     ]
    },
    {
     "name": "stderr",
     "output_type": "stream",
     "text": [
      "100%|██████████| 217/217 [00:14<00:00, 15.34it/s]\n"
     ]
    }
   ],
   "source": [
    "data_pd = pd.DataFrame()\n",
    "for topic in topics:\n",
    "    print(topic)\n",
    "    topic_path = 'zhihu/' + topic\n",
    "    if not os.path.exists(topic_path):\n",
    "        os.mkdir(topic_path)\n",
    "    questions = os.listdir(topic_path)\n",
    "    for question_txt in tqdm(questions):\n",
    "        question_name = question_txt.split('.')[0]\n",
    "        time_name = question_name[:10]\n",
    "        with open(topic_path + '/' + question_txt,'r') as f:\n",
    "            question_set = {}\n",
    "            f.readline()\n",
    "            f.readline()\n",
    "            question_set['问题'] = [question_name]\n",
    "            question_set['时间'] = [time_name]\n",
    "            lines = f.read()\n",
    "            answers = lines.split('create_time: ')[:-1]\n",
    "            for i in range(len(answers)):\n",
    "                if i == 0:\n",
    "                    question_set['回答1'] = [answers[0]]\n",
    "                else:\n",
    "                    question_set['回答'+str(i+1)] = [answers[i][21:]]\n",
    "            data_pd = data_pd.append(pd.DataFrame(question_set),sort=False)\n",
    "data_pd.to_excel('zhihu.xlsx',index=None)"
   ]
  }
 ],
 "metadata": {
  "kernelspec": {
   "display_name": "Python 3",
   "language": "python",
   "name": "python3"
  },
  "language_info": {
   "codemirror_mode": {
    "name": "ipython",
    "version": 3
   },
   "file_extension": ".py",
   "mimetype": "text/x-python",
   "name": "python",
   "nbconvert_exporter": "python",
   "pygments_lexer": "ipython3",
   "version": "3.6.9"
  }
 },
 "nbformat": 4,
 "nbformat_minor": 2
}
